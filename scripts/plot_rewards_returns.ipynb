{
 "cells": [
  {
   "cell_type": "code",
   "execution_count": 1,
   "metadata": {
    "pycharm": {
     "name": "#%%\n"
    }
   },
   "outputs": [
    {
     "name": "stdout",
     "output_type": "stream",
     "text": [
      "Compiling /home/avnish/miniconda3/envs/garage_2/lib/python3.7/site-packages/mujoco_py/cymj.pyx because it depends on /home/avnish/miniconda3/envs/garage_2/lib/python3.7/site-packages/mujoco_py/pxd/mujoco.pxd.\n",
      "[1/1] Cythonizing /home/avnish/miniconda3/envs/garage_2/lib/python3.7/site-packages/mujoco_py/cymj.pyx\n",
      "running build_ext\n",
      "building 'mujoco_py.cymj' extension\n",
      "creating /home/avnish/miniconda3/envs/garage_2/lib/python3.7/site-packages/mujoco_py/generated/_pyxbld_2.0.2.8_37_linuxcpuextensionbuilder\n",
      "creating /home/avnish/miniconda3/envs/garage_2/lib/python3.7/site-packages/mujoco_py/generated/_pyxbld_2.0.2.8_37_linuxcpuextensionbuilder/temp.linux-x86_64-3.7\n",
      "creating /home/avnish/miniconda3/envs/garage_2/lib/python3.7/site-packages/mujoco_py/generated/_pyxbld_2.0.2.8_37_linuxcpuextensionbuilder/temp.linux-x86_64-3.7/home\n",
      "creating /home/avnish/miniconda3/envs/garage_2/lib/python3.7/site-packages/mujoco_py/generated/_pyxbld_2.0.2.8_37_linuxcpuextensionbuilder/temp.linux-x86_64-3.7/home/avnish\n",
      "creating /home/avnish/miniconda3/envs/garage_2/lib/python3.7/site-packages/mujoco_py/generated/_pyxbld_2.0.2.8_37_linuxcpuextensionbuilder/temp.linux-x86_64-3.7/home/avnish/miniconda3\n",
      "creating /home/avnish/miniconda3/envs/garage_2/lib/python3.7/site-packages/mujoco_py/generated/_pyxbld_2.0.2.8_37_linuxcpuextensionbuilder/temp.linux-x86_64-3.7/home/avnish/miniconda3/envs\n",
      "creating /home/avnish/miniconda3/envs/garage_2/lib/python3.7/site-packages/mujoco_py/generated/_pyxbld_2.0.2.8_37_linuxcpuextensionbuilder/temp.linux-x86_64-3.7/home/avnish/miniconda3/envs/garage_2\n",
      "creating /home/avnish/miniconda3/envs/garage_2/lib/python3.7/site-packages/mujoco_py/generated/_pyxbld_2.0.2.8_37_linuxcpuextensionbuilder/temp.linux-x86_64-3.7/home/avnish/miniconda3/envs/garage_2/lib\n",
      "creating /home/avnish/miniconda3/envs/garage_2/lib/python3.7/site-packages/mujoco_py/generated/_pyxbld_2.0.2.8_37_linuxcpuextensionbuilder/temp.linux-x86_64-3.7/home/avnish/miniconda3/envs/garage_2/lib/python3.7\n",
      "creating /home/avnish/miniconda3/envs/garage_2/lib/python3.7/site-packages/mujoco_py/generated/_pyxbld_2.0.2.8_37_linuxcpuextensionbuilder/temp.linux-x86_64-3.7/home/avnish/miniconda3/envs/garage_2/lib/python3.7/site-packages\n",
      "creating /home/avnish/miniconda3/envs/garage_2/lib/python3.7/site-packages/mujoco_py/generated/_pyxbld_2.0.2.8_37_linuxcpuextensionbuilder/temp.linux-x86_64-3.7/home/avnish/miniconda3/envs/garage_2/lib/python3.7/site-packages/mujoco_py\n",
      "creating /home/avnish/miniconda3/envs/garage_2/lib/python3.7/site-packages/mujoco_py/generated/_pyxbld_2.0.2.8_37_linuxcpuextensionbuilder/temp.linux-x86_64-3.7/home/avnish/miniconda3/envs/garage_2/lib/python3.7/site-packages/mujoco_py/gl\n",
      "gcc -pthread -B /home/avnish/miniconda3/envs/garage_2/compiler_compat -Wl,--sysroot=/ -Wsign-compare -DNDEBUG -g -fwrapv -O3 -Wall -fPIC -I/home/avnish/miniconda3/envs/garage_2/lib/python3.7/site-packages/mujoco_py -I/home/avnish/.mujoco/mujoco200/include -I/home/avnish/miniconda3/envs/garage_2/lib/python3.7/site-packages/numpy/core/include -I/home/avnish/miniconda3/envs/garage_2/include/python3.7m -c /home/avnish/miniconda3/envs/garage_2/lib/python3.7/site-packages/mujoco_py/cymj.c -o /home/avnish/miniconda3/envs/garage_2/lib/python3.7/site-packages/mujoco_py/generated/_pyxbld_2.0.2.8_37_linuxcpuextensionbuilder/temp.linux-x86_64-3.7/home/avnish/miniconda3/envs/garage_2/lib/python3.7/site-packages/mujoco_py/cymj.o -fopenmp -w\n",
      "gcc -pthread -B /home/avnish/miniconda3/envs/garage_2/compiler_compat -Wl,--sysroot=/ -Wsign-compare -DNDEBUG -g -fwrapv -O3 -Wall -fPIC -I/home/avnish/miniconda3/envs/garage_2/lib/python3.7/site-packages/mujoco_py -I/home/avnish/.mujoco/mujoco200/include -I/home/avnish/miniconda3/envs/garage_2/lib/python3.7/site-packages/numpy/core/include -I/home/avnish/miniconda3/envs/garage_2/include/python3.7m -c /home/avnish/miniconda3/envs/garage_2/lib/python3.7/site-packages/mujoco_py/gl/osmesashim.c -o /home/avnish/miniconda3/envs/garage_2/lib/python3.7/site-packages/mujoco_py/generated/_pyxbld_2.0.2.8_37_linuxcpuextensionbuilder/temp.linux-x86_64-3.7/home/avnish/miniconda3/envs/garage_2/lib/python3.7/site-packages/mujoco_py/gl/osmesashim.o -fopenmp -w\n",
      "creating /home/avnish/miniconda3/envs/garage_2/lib/python3.7/site-packages/mujoco_py/generated/_pyxbld_2.0.2.8_37_linuxcpuextensionbuilder/lib.linux-x86_64-3.7\n",
      "creating /home/avnish/miniconda3/envs/garage_2/lib/python3.7/site-packages/mujoco_py/generated/_pyxbld_2.0.2.8_37_linuxcpuextensionbuilder/lib.linux-x86_64-3.7/mujoco_py\n",
      "gcc -pthread -shared -B /home/avnish/miniconda3/envs/garage_2/compiler_compat -L/home/avnish/miniconda3/envs/garage_2/lib -Wl,-rpath=/home/avnish/miniconda3/envs/garage_2/lib -Wl,--no-as-needed -Wl,--sysroot=/ /home/avnish/miniconda3/envs/garage_2/lib/python3.7/site-packages/mujoco_py/generated/_pyxbld_2.0.2.8_37_linuxcpuextensionbuilder/temp.linux-x86_64-3.7/home/avnish/miniconda3/envs/garage_2/lib/python3.7/site-packages/mujoco_py/cymj.o /home/avnish/miniconda3/envs/garage_2/lib/python3.7/site-packages/mujoco_py/generated/_pyxbld_2.0.2.8_37_linuxcpuextensionbuilder/temp.linux-x86_64-3.7/home/avnish/miniconda3/envs/garage_2/lib/python3.7/site-packages/mujoco_py/gl/osmesashim.o -L/home/avnish/.mujoco/mujoco200/bin -Wl,-R/home/avnish/.mujoco/mujoco200/bin -lmujoco200 -lglewosmesa -lOSMesa -lGL -o /home/avnish/miniconda3/envs/garage_2/lib/python3.7/site-packages/mujoco_py/generated/_pyxbld_2.0.2.8_37_linuxcpuextensionbuilder/lib.linux-x86_64-3.7/mujoco_py/cymj.cpython-37m-x86_64-linux-gnu.so -fopenmp\n"
     ]
    },
    {
     "name": "stderr",
     "output_type": "stream",
     "text": [
      "/home/avnish/miniconda3/envs/garage_2/lib/python3.7/site-packages/gym/logger.py:30: UserWarning: \u001B[33mWARN: Box bound precision lowered by casting to float32\u001B[0m\n",
      "  warnings.warn(colorize('%s: %s'%('WARN', msg % args), 'yellow'))\n"
     ]
    }
   ],
   "source": [
    "import os\n",
    "import functools\n",
    "\n",
    "import numpy as np\n",
    "import matplotlib.pyplot as plt\n",
    "import pandas as pd\n",
    "import seaborn as sns\n",
    "\n",
    "from tests.metaworld.envs.mujoco.sawyer_xyz.utils import trajectory_summary\n",
    "from tests.metaworld.envs.mujoco.sawyer_xyz.test_scripted_policies import ALL_ENVS, test_cases_latest_nonoise\n",
    "\n",
    "sns.set()\n",
    "%load_ext autoreload\n",
    "%autoreload 2"
   ]
  },
  {
   "cell_type": "code",
   "execution_count": null,
   "metadata": {},
   "outputs": [],
   "source": []
  },
  {
   "cell_type": "code",
   "execution_count": 2,
   "metadata": {
    "pycharm": {
     "name": "#%%\n"
    }
   },
   "outputs": [],
   "source": [
    "def sample_trajectories_from(env, policy, act_noise_pct, iters=100):\n",
    "    sampled_rewards = []\n",
    "    sampled_returns = []\n",
    "    sampled_first_successes = []\n",
    "\n",
    "    for _ in range(iters):\n",
    "        s = trajectory_summary(env, policy, act_noise_pct, end_on_success=False)\n",
    "        sampled_rewards.append(s[1])\n",
    "        sampled_returns.append(s[2])\n",
    "        sampled_first_successes.append(s[3])\n",
    "\n",
    "    sampled_rewards = np.vstack(sampled_rewards)\n",
    "    sampled_returns = np.vstack(sampled_returns)\n",
    "    sampled_first_successes = np.array(sampled_first_successes)\n",
    "\n",
    "    return sampled_rewards, sampled_returns, sampled_first_successes\n",
    "\n",
    "\n",
    "def plot(rewards, returns, first_successes, tag):\n",
    "    first_success = min(int(first_successes.mean()), rewards.shape[1])\n",
    "    first_success_rew = rewards.mean(axis=0)[first_success]\n",
    "    first_success_ret = returns.mean(axis=0)[first_success]\n",
    "    \n",
    "    fig, ax = plt.subplots(1, 2, figsize=(6.75, 4))\n",
    "\n",
    "    reward_df = pd.DataFrame(rewards).melt()\n",
    "    ax[0] = sns.lineplot(x='variable', y='value', data=reward_df, ax=ax[0], ci=95, lw=.5)\n",
    "    ax[0].set_xlabel('Time Steps')\n",
    "    ax[0].set_ylabel('Reward')\n",
    "    ax[0].set_title('Rewards')\n",
    "    ax[0].vlines(first_success, ymin=0, ymax=first_success_rew, linestyle='--', color='green')\n",
    "    ax[0].hlines(first_success_rew, xmin=0, xmax=first_success, linestyle='--', color='green')\n",
    "#     ax[0].set_yscale('symlog')\n",
    "\n",
    "    return_df = pd.DataFrame(returns).melt()\n",
    "    ax[1] = sns.lineplot(x='variable', y='value', data=return_df, ax=ax[1], ci=95, lw=.5)\n",
    "    ax[1].set_xlabel('Time Steps')\n",
    "    ax[1].set_ylabel('Return')\n",
    "    ax[1].set_title('Returns')\n",
    "    ax[1].vlines(first_success, ymin=0, ymax=first_success_ret, linestyle='--', color='green')\n",
    "    ax[1].hlines(first_success_ret, xmin=0, xmax=first_success, linestyle='--', color='green')\n",
    "#     ax[1].set_yscale('symlog')\n",
    "\n",
    "    plt.subplots_adjust(top=.85)\n",
    "    fig.suptitle(f'{tag} (n={rewards.shape[0]})')\n",
    "    fig.tight_layout(rect=[0, 0.03, 1, 0.95])\n",
    "\n",
    "    plt.show()\n",
    "    if not os.path.exists('figures'):\n",
    "        os.mkdir('figures')\n",
    "    fig.savefig(f'figures/{tag}_rewards_returns.jpg')"
   ]
  },
  {
   "cell_type": "code",
   "execution_count": 8,
   "metadata": {
    "pycharm": {
     "name": "#%%\n"
    }
   },
   "outputs": [
    {
     "ename": "TypeError",
     "evalue": "dispatcher for __array_function__ did not return an iterable",
     "output_type": "error",
     "traceback": [
      "\u001B[0;31m---------------------------------------------------------------------------\u001B[0m",
      "\u001B[0;31mTypeError\u001B[0m                                 Traceback (most recent call last)",
      "\u001B[0;32m<ipython-input-8-f682a4f22407>\u001B[0m in \u001B[0;36m<module>\u001B[0;34m\u001B[0m\n\u001B[1;32m     56\u001B[0m     \u001B[0menv\u001B[0m\u001B[0;34m.\u001B[0m\u001B[0m_set_task_called\u001B[0m \u001B[0;34m=\u001B[0m \u001B[0;32mTrue\u001B[0m\u001B[0;34m\u001B[0m\u001B[0;34m\u001B[0m\u001B[0m\n\u001B[1;32m     57\u001B[0m \u001B[0;34m\u001B[0m\u001B[0m\n\u001B[0;32m---> 58\u001B[0;31m     \u001B[0msampled_rewards\u001B[0m\u001B[0;34m,\u001B[0m \u001B[0msampled_returns\u001B[0m\u001B[0;34m,\u001B[0m \u001B[0msampled_first_successes\u001B[0m \u001B[0;34m=\u001B[0m \u001B[0msample_trajectories_from\u001B[0m\u001B[0;34m(\u001B[0m\u001B[0menv\u001B[0m\u001B[0;34m,\u001B[0m \u001B[0mpolicy\u001B[0m\u001B[0;34m,\u001B[0m \u001B[0mnoise\u001B[0m\u001B[0;34m)\u001B[0m\u001B[0;34m\u001B[0m\u001B[0;34m\u001B[0m\u001B[0m\n\u001B[0m\u001B[1;32m     59\u001B[0m     \u001B[0mplot\u001B[0m\u001B[0;34m(\u001B[0m\u001B[0msampled_rewards\u001B[0m\u001B[0;34m,\u001B[0m \u001B[0msampled_returns\u001B[0m\u001B[0;34m,\u001B[0m \u001B[0msampled_first_successes\u001B[0m\u001B[0;34m,\u001B[0m \u001B[0mtag\u001B[0m\u001B[0;34m)\u001B[0m\u001B[0;34m\u001B[0m\u001B[0;34m\u001B[0m\u001B[0m\n",
      "\u001B[0;32m<ipython-input-2-672a61546887>\u001B[0m in \u001B[0;36msample_trajectories_from\u001B[0;34m(env, policy, act_noise_pct, iters)\u001B[0m\n\u001B[1;32m      5\u001B[0m \u001B[0;34m\u001B[0m\u001B[0m\n\u001B[1;32m      6\u001B[0m     \u001B[0;32mfor\u001B[0m \u001B[0m_\u001B[0m \u001B[0;32min\u001B[0m \u001B[0mrange\u001B[0m\u001B[0;34m(\u001B[0m\u001B[0miters\u001B[0m\u001B[0;34m)\u001B[0m\u001B[0;34m:\u001B[0m\u001B[0;34m\u001B[0m\u001B[0;34m\u001B[0m\u001B[0m\n\u001B[0;32m----> 7\u001B[0;31m         \u001B[0ms\u001B[0m \u001B[0;34m=\u001B[0m \u001B[0mtrajectory_summary\u001B[0m\u001B[0;34m(\u001B[0m\u001B[0menv\u001B[0m\u001B[0;34m,\u001B[0m \u001B[0mpolicy\u001B[0m\u001B[0;34m,\u001B[0m \u001B[0mact_noise_pct\u001B[0m\u001B[0;34m,\u001B[0m \u001B[0mend_on_success\u001B[0m\u001B[0;34m=\u001B[0m\u001B[0;32mFalse\u001B[0m\u001B[0;34m)\u001B[0m\u001B[0;34m\u001B[0m\u001B[0;34m\u001B[0m\u001B[0m\n\u001B[0m\u001B[1;32m      8\u001B[0m         \u001B[0msampled_rewards\u001B[0m\u001B[0;34m.\u001B[0m\u001B[0mappend\u001B[0m\u001B[0;34m(\u001B[0m\u001B[0ms\u001B[0m\u001B[0;34m[\u001B[0m\u001B[0;36m1\u001B[0m\u001B[0;34m]\u001B[0m\u001B[0;34m)\u001B[0m\u001B[0;34m\u001B[0m\u001B[0;34m\u001B[0m\u001B[0m\n\u001B[1;32m      9\u001B[0m         \u001B[0msampled_returns\u001B[0m\u001B[0;34m.\u001B[0m\u001B[0mappend\u001B[0m\u001B[0;34m(\u001B[0m\u001B[0ms\u001B[0m\u001B[0;34m[\u001B[0m\u001B[0;36m2\u001B[0m\u001B[0;34m]\u001B[0m\u001B[0;34m)\u001B[0m\u001B[0;34m\u001B[0m\u001B[0;34m\u001B[0m\u001B[0m\n",
      "\u001B[0;32m~/metaworld_2/tests/metaworld/envs/mujoco/sawyer_xyz/utils.py\u001B[0m in \u001B[0;36mtrajectory_summary\u001B[0;34m(env, policy, act_noise_pct, render, end_on_success)\u001B[0m\n\u001B[1;32m     20\u001B[0m     \u001B[0mrewards\u001B[0m \u001B[0;34m=\u001B[0m \u001B[0;34m[\u001B[0m\u001B[0;34m]\u001B[0m\u001B[0;34m\u001B[0m\u001B[0;34m\u001B[0m\u001B[0m\n\u001B[1;32m     21\u001B[0m \u001B[0;34m\u001B[0m\u001B[0m\n\u001B[0;32m---> 22\u001B[0;31m     \u001B[0;32mfor\u001B[0m \u001B[0mt\u001B[0m\u001B[0;34m,\u001B[0m \u001B[0;34m(\u001B[0m\u001B[0mr\u001B[0m\u001B[0;34m,\u001B[0m \u001B[0mdone\u001B[0m\u001B[0;34m,\u001B[0m \u001B[0minfo\u001B[0m\u001B[0;34m)\u001B[0m \u001B[0;32min\u001B[0m \u001B[0menumerate\u001B[0m\u001B[0;34m(\u001B[0m\u001B[0mtrajectory_generator\u001B[0m\u001B[0;34m(\u001B[0m\u001B[0menv\u001B[0m\u001B[0;34m,\u001B[0m \u001B[0mpolicy\u001B[0m\u001B[0;34m,\u001B[0m \u001B[0mact_noise_pct\u001B[0m\u001B[0;34m,\u001B[0m \u001B[0mrender\u001B[0m\u001B[0;34m)\u001B[0m\u001B[0;34m)\u001B[0m\u001B[0;34m:\u001B[0m\u001B[0;34m\u001B[0m\u001B[0;34m\u001B[0m\u001B[0m\n\u001B[0m\u001B[1;32m     23\u001B[0m         \u001B[0mrewards\u001B[0m\u001B[0;34m.\u001B[0m\u001B[0mappend\u001B[0m\u001B[0;34m(\u001B[0m\u001B[0mr\u001B[0m\u001B[0;34m)\u001B[0m\u001B[0;34m\u001B[0m\u001B[0;34m\u001B[0m\u001B[0m\n\u001B[1;32m     24\u001B[0m \u001B[0;34m\u001B[0m\u001B[0m\n",
      "\u001B[0;32m~/metaworld_2/tests/metaworld/envs/mujoco/sawyer_xyz/utils.py\u001B[0m in \u001B[0;36mtrajectory_generator\u001B[0;34m(env, policy, act_noise_pct, render)\u001B[0m\n\u001B[1;32m     56\u001B[0m \u001B[0;34m\u001B[0m\u001B[0m\n\u001B[1;32m     57\u001B[0m     \u001B[0;32mfor\u001B[0m \u001B[0m_\u001B[0m \u001B[0;32min\u001B[0m \u001B[0mrange\u001B[0m\u001B[0;34m(\u001B[0m\u001B[0menv\u001B[0m\u001B[0;34m.\u001B[0m\u001B[0mmax_path_length\u001B[0m\u001B[0;34m)\u001B[0m\u001B[0;34m:\u001B[0m\u001B[0;34m\u001B[0m\u001B[0;34m\u001B[0m\u001B[0m\n\u001B[0;32m---> 58\u001B[0;31m         \u001B[0ma\u001B[0m \u001B[0;34m=\u001B[0m \u001B[0mpolicy\u001B[0m\u001B[0;34m.\u001B[0m\u001B[0mget_action\u001B[0m\u001B[0;34m(\u001B[0m\u001B[0mo\u001B[0m\u001B[0;34m)\u001B[0m\u001B[0;34m\u001B[0m\u001B[0;34m\u001B[0m\u001B[0m\n\u001B[0m\u001B[1;32m     59\u001B[0m         \u001B[0ma\u001B[0m \u001B[0;34m=\u001B[0m \u001B[0mnp\u001B[0m\u001B[0;34m.\u001B[0m\u001B[0mrandom\u001B[0m\u001B[0;34m.\u001B[0m\u001B[0mnormal\u001B[0m\u001B[0;34m(\u001B[0m\u001B[0ma\u001B[0m\u001B[0;34m,\u001B[0m \u001B[0mact_noise_pct\u001B[0m \u001B[0;34m*\u001B[0m \u001B[0maction_space_ptp\u001B[0m\u001B[0;34m)\u001B[0m\u001B[0;34m\u001B[0m\u001B[0;34m\u001B[0m\u001B[0m\n\u001B[1;32m     60\u001B[0m \u001B[0;34m\u001B[0m\u001B[0m\n",
      "\u001B[0;32m~/metaworld_2/metaworld/policies/sawyer_window_open_v2_policy.py\u001B[0m in \u001B[0;36mget_action\u001B[0;34m(self, obs)\u001B[0m\n\u001B[1;32m     17\u001B[0m \u001B[0;34m\u001B[0m\u001B[0m\n\u001B[1;32m     18\u001B[0m     \u001B[0;32mdef\u001B[0m \u001B[0mget_action\u001B[0m\u001B[0;34m(\u001B[0m\u001B[0mself\u001B[0m\u001B[0;34m,\u001B[0m \u001B[0mobs\u001B[0m\u001B[0;34m)\u001B[0m\u001B[0;34m:\u001B[0m\u001B[0;34m\u001B[0m\u001B[0;34m\u001B[0m\u001B[0m\n\u001B[0;32m---> 19\u001B[0;31m         \u001B[0mo_d\u001B[0m \u001B[0;34m=\u001B[0m \u001B[0mself\u001B[0m\u001B[0;34m.\u001B[0m\u001B[0m_parse_obs\u001B[0m\u001B[0;34m(\u001B[0m\u001B[0mobs\u001B[0m\u001B[0;34m)\u001B[0m\u001B[0;34m\u001B[0m\u001B[0;34m\u001B[0m\u001B[0m\n\u001B[0m\u001B[1;32m     20\u001B[0m \u001B[0;34m\u001B[0m\u001B[0m\n\u001B[1;32m     21\u001B[0m         action = Action({\n",
      "\u001B[0;32m~/metaworld_2/metaworld/policies/policy.py\u001B[0m in \u001B[0;36minner\u001B[0;34m(obs)\u001B[0m\n\u001B[1;32m     15\u001B[0m     \"\"\"\n\u001B[1;32m     16\u001B[0m     \u001B[0;32mdef\u001B[0m \u001B[0minner\u001B[0m\u001B[0;34m(\u001B[0m\u001B[0mobs\u001B[0m\u001B[0;34m)\u001B[0m\u001B[0;34m:\u001B[0m\u001B[0;34m\u001B[0m\u001B[0;34m\u001B[0m\u001B[0m\n\u001B[0;32m---> 17\u001B[0;31m         \u001B[0mobs_dict\u001B[0m \u001B[0;34m=\u001B[0m \u001B[0mfunc\u001B[0m\u001B[0;34m(\u001B[0m\u001B[0mobs\u001B[0m\u001B[0;34m)\u001B[0m\u001B[0;34m\u001B[0m\u001B[0;34m\u001B[0m\u001B[0m\n\u001B[0m\u001B[1;32m     18\u001B[0m         assert len(obs) == sum(\n\u001B[1;32m     19\u001B[0m             \u001B[0;34m[\u001B[0m\u001B[0mlen\u001B[0m\u001B[0;34m(\u001B[0m\u001B[0mi\u001B[0m\u001B[0;34m)\u001B[0m \u001B[0;32mif\u001B[0m \u001B[0misinstance\u001B[0m\u001B[0;34m(\u001B[0m\u001B[0mi\u001B[0m\u001B[0;34m,\u001B[0m \u001B[0mnp\u001B[0m\u001B[0;34m.\u001B[0m\u001B[0mndarray\u001B[0m\u001B[0;34m)\u001B[0m \u001B[0;32melse\u001B[0m \u001B[0;36m1\u001B[0m \u001B[0;32mfor\u001B[0m \u001B[0mi\u001B[0m \u001B[0;32min\u001B[0m \u001B[0mobs_dict\u001B[0m\u001B[0;34m.\u001B[0m\u001B[0mvalues\u001B[0m\u001B[0;34m(\u001B[0m\u001B[0;34m)\u001B[0m\u001B[0;34m]\u001B[0m\u001B[0;34m\u001B[0m\u001B[0;34m\u001B[0m\u001B[0m\n",
      "\u001B[0;32m~/metaworld_2/metaworld/policies/sawyer_window_open_v2_policy.py\u001B[0m in \u001B[0;36m_parse_obs\u001B[0;34m(obs)\u001B[0m\n\u001B[1;32m     13\u001B[0m             \u001B[0;34m'hand_pos'\u001B[0m\u001B[0;34m:\u001B[0m \u001B[0mobs\u001B[0m\u001B[0;34m[\u001B[0m\u001B[0;34m:\u001B[0m\u001B[0;36m3\u001B[0m\u001B[0;34m]\u001B[0m\u001B[0;34m,\u001B[0m\u001B[0;34m\u001B[0m\u001B[0;34m\u001B[0m\u001B[0m\n\u001B[1;32m     14\u001B[0m             \u001B[0;34m'wndw_pos'\u001B[0m\u001B[0;34m:\u001B[0m \u001B[0mobs\u001B[0m\u001B[0;34m[\u001B[0m\u001B[0;36m4\u001B[0m\u001B[0;34m:\u001B[0m\u001B[0;36m7\u001B[0m\u001B[0;34m]\u001B[0m\u001B[0;34m,\u001B[0m\u001B[0;34m\u001B[0m\u001B[0;34m\u001B[0m\u001B[0m\n\u001B[0;32m---> 15\u001B[0;31m             \u001B[0;34m'unused_info'\u001B[0m\u001B[0;34m:\u001B[0m \u001B[0mnp\u001B[0m\u001B[0;34m.\u001B[0m\u001B[0mconcatenate\u001B[0m\u001B[0;34m(\u001B[0m\u001B[0mnp\u001B[0m\u001B[0;34m.\u001B[0m\u001B[0marray\u001B[0m\u001B[0;34m(\u001B[0m\u001B[0mobs\u001B[0m\u001B[0;34m[\u001B[0m\u001B[0;36m3\u001B[0m\u001B[0;34m]\u001B[0m\u001B[0;34m)\u001B[0m\u001B[0;34m,\u001B[0m \u001B[0mobs\u001B[0m\u001B[0;34m[\u001B[0m\u001B[0;36m7\u001B[0m\u001B[0;34m:\u001B[0m\u001B[0;34m]\u001B[0m\u001B[0;34m)\u001B[0m\u001B[0;34m\u001B[0m\u001B[0;34m\u001B[0m\u001B[0m\n\u001B[0m\u001B[1;32m     16\u001B[0m         }\n\u001B[1;32m     17\u001B[0m \u001B[0;34m\u001B[0m\u001B[0m\n",
      "\u001B[0;32m<__array_function__ internals>\u001B[0m in \u001B[0;36mconcatenate\u001B[0;34m(*args, **kwargs)\u001B[0m\n",
      "\u001B[0;31mTypeError\u001B[0m: dispatcher for __array_function__ did not return an iterable"
     ]
    }
   ],
   "source": [
    "%reload_ext autoreload\n",
    "config = [\n",
    "#     ['button-press-topdown-v1', np.ones(4)],\n",
    "#     ['pick-place-v2', np.ones(4)],\n",
    "#     ['reach-v2', np.ones(4)],\n",
    "#     ['window-open-v2', np.ones(4)],\n",
    "#     ['sweep-v1', np.ones(4)],\n",
    "#     ['sweep-into-v1', np.ones(4)],\n",
    "#     ['shelf-place-v2', np.ones(4)],\n",
    "#     ['push-v2', np.ones(4)],\n",
    "#     ['peg-insert-side-v2', np.ones(4)],\n",
    "#     ['lever-pull-v2', np.ones(4)],\n",
    "\n",
    "#     ['button-press-topdown-v1', np.array([1., 1., 1., 0.])],\n",
    "#     ['pick-place-v2', np.array([1., 1., 1., 0.])],\n",
    "#     ['reach-v2', np.array([1., 1., 1., 0.])],\n",
    "#     ['window-open-v2', np.array([1., 1., 1., 0.])],\n",
    "#     ['sweep-v1', np.array([1., 1., 1., 0.])],\n",
    "#     ['sweep-into-v1', np.array([1., 1., 1., 0.])],\n",
    "#     ['shelf-place-v2', np.array([1., 1., 1., 0.])],\n",
    "#     ['push-v2', np.array([1., 1., 1., 0.])],\n",
    "#     ['peg-insert-side-v2', np.array([1., 1., 1., 0.])],\n",
    "#     ['lever-pull-v2', np.array([1., 1., 1., 0.])],\n",
    "\n",
    "#     ['button-press-topdown-v1', np.full(4, .1)],\n",
    "#     ['pick-place-v2', np.full(4, .1)],\n",
    "#     ['pick-place-v2', np.full(4, 0)],\n",
    "#     ['reach-v2', np.full(4, .1)],\n",
    "#     ['window-open-v2', np.full(4, .1)],\n",
    "#     ['sweep-v1', np.full(4, .1)],\n",
    "#     ['sweep-into-v1', np.full(4, .1)],\n",
    "#     ['shelf-place-v2', np.full(4, .1)],\n",
    "#     ['push-v2', np.full(4, .1)],\n",
    "    ['window-open-v2', np.full(4, .1)],\n",
    "#     ['lever-pull-v2', np.full(4, .1)],\n",
    "\n",
    "#     ['button-press-topdown-v1', np.zeros(4)],\n",
    "#     ['pick-place-v2', np.zeros(4)],\n",
    "#     ['reach-v2', np.zeros(4)],\n",
    "#     ['window-open-v2', np.zeros(4)],\n",
    "#     ['sweep-v1', np.zeros(4)],\n",
    "#     ['sweep-into-v1', np.zeros(4)],\n",
    "#     ['shelf-place-v2', np.zeros(4)],\n",
    "#     ['push-v2', np.zeros(4)],\n",
    "#     ['peg-insert-side-v2', np.zeros(4)],\n",
    "#     ['lever-pull-v2', np.zeros(4)],\n",
    "]\n",
    "\n",
    "for env, noise in config:\n",
    "    tag = env + '-noise-' + np.array2string(noise, precision=2, separator=',', suppress_small=True)\n",
    "\n",
    "    policy = functools.reduce(lambda a,b : a if a[0] == env else b, test_cases_latest_nonoise)[1]\n",
    "    env = ALL_ENVS[env]()\n",
    "    env._partially_observable = False\n",
    "    env._freeze_rand_vec = False\n",
    "    env._set_task_called = True\n",
    "\n",
    "    sampled_rewards, sampled_returns, sampled_first_successes = sample_trajectories_from(env, policy, noise)\n",
    "    plot(sampled_rewards, sampled_returns, sampled_first_successes, tag)"
   ]
  },
  {
   "cell_type": "code",
   "execution_count": null,
   "metadata": {},
   "outputs": [],
   "source": [
    "i = 20\n",
    "first_success = sampled_first_successes[i]\n",
    "first_success_reward = sampled_rewards[i][first_success]\n",
    "fig, ax = plt.subplots(1, 1, figsize=(6.75, 4))\n",
    "ax.plot(np.arange(len(sampled_rewards[0])), sampled_rewards[i])\n",
    "\n",
    "ax.vlines(first_success, ymin=0, ymax=first_success_reward, linestyle='--', color='green')\n",
    "ax.hlines(first_success_reward, xmin=0, xmax=first_success, linestyle='--', color='green')"
   ]
  },
  {
   "cell_type": "markdown",
   "metadata": {},
   "source": []
  },
  {
   "cell_type": "code",
   "execution_count": null,
   "metadata": {},
   "outputs": [],
   "source": [
    "np.diff(sampled_rewards[i])"
   ]
  },
  {
   "cell_type": "code",
   "execution_count": null,
   "metadata": {},
   "outputs": [],
   "source": []
  },
  {
   "cell_type": "code",
   "execution_count": null,
   "metadata": {},
   "outputs": [],
   "source": []
  }
 ],
 "metadata": {
  "kernelspec": {
   "display_name": "Python 3",
   "language": "python",
   "name": "python3"
  },
  "language_info": {
   "codemirror_mode": {
    "name": "ipython",
    "version": 3
   },
   "file_extension": ".py",
   "mimetype": "text/x-python",
   "name": "python",
   "nbconvert_exporter": "python",
   "pygments_lexer": "ipython3",
   "version": "3.7.9"
  }
 },
 "nbformat": 4,
 "nbformat_minor": 1
}