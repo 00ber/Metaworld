{
 "cells": [
  {
   "cell_type": "code",
   "execution_count": null,
   "outputs": [],
   "source": [
    "import os\n",
    "import functools\n",
    "\n",
    "import cv2\n",
    "import numpy as np\n",
    "\n",
    "from tests.metaworld.envs.mujoco.sawyer_xyz.test_scripted_policies import ALL_ENVS, test_cases_latest_nonoise\n"
   ],
   "metadata": {
    "collapsed": false,
    "pycharm": {
     "name": "#%%\n"
    }
   }
  },
  {
   "cell_type": "code",
   "execution_count": null,
   "outputs": [],
   "source": [
    "def trajectory_generator(env, policy, act_noise_pct, res=(640, 480), camera='corner'):\n",
    "    action_space_ptp = env.action_space.high - env.action_space.low\n",
    "\n",
    "    env.reset()\n",
    "    env.reset_model()\n",
    "    o = env.reset()\n",
    "\n",
    "    for _ in range(env.max_path_length):\n",
    "        a = policy.get_action(o)\n",
    "        a = np.random.normal(a, act_noise_pct * action_space_ptp)\n",
    "\n",
    "        o, r, done, info = env.step(a)\n",
    "        # Camera is one of ['corner', 'topview', 'behindGripper', 'gripperPOV']\n",
    "        yield r, done, info, env.sim.render(*res[::-1], mode='offscreen', camera_name=camera)[:,:,::-1]\n",
    "\n",
    "def writer_for(tag, fps, res):\n",
    "    if not os.path.exists('movies'):\n",
    "        os.mkdir('movies')\n",
    "    return cv2.VideoWriter(\n",
    "        f'movies/{tag}.avi',\n",
    "        cv2.VideoWriter_fourcc('M','J','P','G'),\n",
    "        fps,\n",
    "        res\n",
    "    )"
   ],
   "metadata": {
    "collapsed": false,
    "pycharm": {
     "name": "#%%\n"
    }
   }
  },
  {
   "cell_type": "code",
   "execution_count": null,
   "outputs": [],
   "source": [
    "resolution = (360, 540)\n",
    "attempts = 3\n",
    "camera = 'corner' # one of ['corner', 'topview', 'behindGripper', 'gripperPOV']\n",
    "flip=False # if True, flips output image 180 degrees\n",
    "\n",
    "config = [\n",
    "    # env, action noise pct, quit on success\n",
    "    # ('assembly-v2', np.zeros(4), True),\n",
    "    # ('basketball-v2', np.zeros(4), True),\n",
    "    # ('bin-picking-v2', np.zeros(4), True),\n",
    "    # ('box-close-v2', np.zeros(4), True),\n",
    "    # ('button-press-topdown-v2', np.zeros(4), True),\n",
    "    # ('button-press-topdown-wall-v2', np.zeros(4), True),\n",
    "    # ('button-press-v2', np.zeros(4), True),\n",
    "    # ('button-press-wall-v2', np.zeros(4), True),\n",
    "    # ('coffee-button-v2', np.zeros(4), True),\n",
    "    # ('coffee-pull-v2', np.zeros(4), True),\n",
    "    # ('coffee-push-v2', np.zeros(4), True),\n",
    "    # ('dial-turn-v2', np.zeros(4), True),\n",
    "    # ('disassemble-v2', np.zeros(4), True),\n",
    "    # ('door-close-v2', np.zeros(4), True),\n",
    "    # ('door-lock-v2', np.zeros(4), True),\n",
    "    # ('door-open-v2', np.zeros(4), True),\n",
    "    # ('door-unlock-v2', np.zeros(4), True),\n",
    "    # ('drawer-close-v2', np.zeros(4), True),\n",
    "    # ('drawer-open-v2', np.zeros(4), True),\n",
    "    # ('faucet-open-v2', np.zeros(4), True),\n",
    "    # ('faucet-close-v2', np.zeros(4), True),\n",
    "    # ('hammer-v2', np.zeros(4), True),\n",
    "    # ('hand-insert-v2', np.zeros(4), True),\n",
    "    # ('handle-press-side-v2', np.zeros(4), True),\n",
    "    # ('handle-press-v2', np.zeros(4), True),\n",
    "    # ('handle-pull-side-v2', np.zeros(4), True),\n",
    "    # ('handle-pull-v2', np.zeros(4), True),\n",
    "    # ('lever-pull-v2', np.zeros(4), True),\n",
    "    # ('peg-insert-side-v2', np.zeros(4), True),\n",
    "    # ('peg-unplug-side-v2', np.zeros(4), True),\n",
    "    # ('pick-out-of-hole-v2', np.zeros(4), True),\n",
    "    ('pick-place-v2', np.zeros(4), True),\n",
    "    # ('pick-place-wall-v2', np.zeros(4), True),\n",
    "    # ('plate-slide-v2', np.zeros(4), True),\n",
    "    # ('plate-slide-side-v2', np.zeros(4), True),\n",
    "    # ('plate-slide-back-v2', np.zeros(4), True),\n",
    "    # ('plate-slide-back-side-v2', np.zeros(4), True),\n",
    "    # ('push-back-v2', np.zeros(4), True),\n",
    "    # ('push-v2', np.zeros(4), True),\n",
    "    # ('push-wall-v2', np.zeros(4), True),\n",
    "    # ('reach-v2', np.zeros(4), True),\n",
    "    # ('reach-wall-v2', np.zeros(4), True),\n",
    "    # ('shelf-place-v2', np.zeros(4), True),\n",
    "    # ('soccer-v2', np.zeros(4), True),\n",
    "    # ('stick-push-v2', np.zeros(4), True),\n",
    "    # ('stick-pull-v2', np.zeros(4), True),\n",
    "    # ('sweep-into-v2', np.zeros(4), True),\n",
    "    # ('sweep-v2', np.zeros(4), True),\n",
    "    # ('window-open-v2', np.zeros(4), True),\n",
    "    # ('window-close-v2', np.zeros(4), True),\n",
    "]\n",
    "\n",
    "entries = (1, 1)\n",
    "assert(entries[0] * entries[1] == len(config))\n",
    "pixels_x = (resolution[1] + 40) * entries[1]\n",
    "pixels_y = (resolution[0] + 200) * entries[0]\n",
    "\n",
    "grid = np.full((500, pixels_y, pixels_x, 3), fill_value=255, dtype='uint8')\n",
    "fps = 0\n",
    "\n",
    "for i, (env, noise, quit_on_success) in enumerate(config):\n",
    "    name = env[:-3]\n",
    "\n",
    "    policy = functools.reduce(lambda a,b : a if a[0] == env else b, test_cases_latest_nonoise)[1]\n",
    "    env = ALL_ENVS[env]()\n",
    "    env._partially_observable = False\n",
    "    env._freeze_rand_vec = False\n",
    "    env._set_task_called = True\n",
    "\n",
    "    fps = env.metadata['video.frames_per_second']\n",
    "    x = (resolution[1] + 40) * (i % entries[1])\n",
    "    y = (resolution[0] + 200) * (i // entries[1])\n",
    "    i += 1\n",
    "    cropped = grid[:, y:y + resolution[0], x:x + resolution[1]]\n",
    "\n",
    "    for _ in range(attempts):\n",
    "        j = 0\n",
    "        info = { 'success': False }\n",
    "        img = np.zeros_like(cropped)\n",
    "\n",
    "        for r, done, info, img in trajectory_generator(env, policy, noise, resolution, camera):\n",
    "            if flip: img = cv2.rotate(img, cv2.ROTATE_180)\n",
    "\n",
    "            cropped[j] = img\n",
    "            j += 1\n",
    "\n",
    "            if quit_on_success and info['success']:\n",
    "                break\n",
    "\n",
    "        if info['success']:\n",
    "            img[:, :, 1] = np.clip(img[:, :, 1] + 20, a_min=0, a_max=255)\n",
    "            cropped[j:] = img\n",
    "            break\n",
    "\n",
    "    for j in range(500):\n",
    "        o = 0\n",
    "        # if len(name) > 22:\n",
    "        #     o = 60\n",
    "\n",
    "        cv2.putText(\n",
    "            grid[j], name, (x + 20, y + resolution[0] + o + 70),\n",
    "            fontFace=cv2.FONT_HERSHEY_SIMPLEX,\n",
    "            fontScale=1.3,\n",
    "            color=(0,0,0),\n",
    "            thickness=5\n",
    "        )\n"
   ],
   "metadata": {
    "collapsed": false,
    "pycharm": {
     "name": "#%%\n"
    }
   }
  },
  {
   "cell_type": "code",
   "execution_count": null,
   "outputs": [],
   "source": [
    "writer = writer_for('all_env_grid_2', fps, (pixels_x, pixels_y))\n",
    "for i in range(grid.shape[0]):\n",
    "    writer.write(grid[i])\n",
    "writer.release()"
   ],
   "metadata": {
    "collapsed": false,
    "pycharm": {
     "name": "#%%\n"
    }
   }
  }
 ],
 "metadata": {
  "kernelspec": {
   "display_name": "Python 3",
   "language": "python",
   "name": "python3"
  },
  "language_info": {
   "codemirror_mode": {
    "name": "ipython",
    "version": 2
   },
   "file_extension": ".py",
   "mimetype": "text/x-python",
   "name": "python",
   "nbconvert_exporter": "python",
   "pygments_lexer": "ipython2",
   "version": "2.7.6"
  }
 },
 "nbformat": 4,
 "nbformat_minor": 0
}