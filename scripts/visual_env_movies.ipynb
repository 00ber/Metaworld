{
 "cells": [
  {
   "cell_type": "code",
   "execution_count": null,
   "outputs": [],
   "source": [
    "import os\n",
    "import functools\n",
    "\n",
    "import cv2\n",
    "import numpy as np\n",
    "from mujoco_py import MujocoException\n",
    "\n",
    "from tests.metaworld.envs.mujoco.sawyer_xyz.test_scripted_policies_visual import ALL_ENVS, test_cases\n"
   ],
   "metadata": {
    "collapsed": false,
    "pycharm": {
     "name": "#%%\n"
    }
   }
  },
  {
   "cell_type": "code",
   "execution_count": null,
   "outputs": [],
   "source": [
    "def trajectory_generator(env, res=(640, 480), camera='corner'):\n",
    "    env.reset()\n",
    "    env.reset_model()\n",
    "    o = env.reset()\n",
    "\n",
    "    for _ in range(env.max_path_length):\n",
    "        try:\n",
    "            o, r, done, info = env.step(np.hstack((o[:3], 0)))\n",
    "            # Camera is one of ['corner', 'topview', 'behindGripper', 'gripperPOV']\n",
    "            yield r, done, info, env.sim.render(*res, mode='offscreen', camera_name=camera)[:,:,::-1]\n",
    "        except MujocoException:\n",
    "            r = 0\n",
    "            done = False\n",
    "            info = {'success': True}\n",
    "            return r, done, info, np.zeros((*res, 3))\n",
    "\n",
    "def writer_for(tag, fps, res):\n",
    "    if not os.path.exists('movies'):\n",
    "        os.mkdir('movies')\n",
    "    return cv2.VideoWriter(\n",
    "        f'movies/{tag}.avi',\n",
    "        cv2.VideoWriter_fourcc('M','J','P','G'),\n",
    "        fps,\n",
    "        res\n",
    "    )"
   ],
   "metadata": {
    "collapsed": false,
    "pycharm": {
     "name": "#%%\n"
    }
   }
  },
  {
   "cell_type": "code",
   "execution_count": null,
   "outputs": [],
   "source": [
    "resolution = (1920, 1080)\n",
    "camera = 'gripperPOV' # one of ['corner', 'topview', 'behindGripper', 'gripperPOV']\n",
    "flip=True # if True, flips output image 180 degrees\n",
    "\n",
    "config = [\n",
    "    # env, action noise pct, cycles, quit on success\n",
    "    ('visual-sandbox-small', 5, True),\n",
    "]\n",
    "\n",
    "for env, cycles, quit_on_success in config:\n",
    "    tag = env\n",
    "\n",
    "    policy = functools.reduce(lambda a,b : a if a[0] == env else b, test_cases)[1]\n",
    "    env = ALL_ENVS[env]()\n",
    "    env._partially_observable = False\n",
    "    env._freeze_rand_vec = False\n",
    "    env._set_task_called = True\n",
    "\n",
    "    writer = writer_for(tag, env.metadata['video.frames_per_second'], resolution)\n",
    "    for _ in range(cycles):\n",
    "        for r, done, info, img in trajectory_generator(env, resolution, camera):\n",
    "            if flip: img = cv2.rotate(img, cv2.ROTATE_180)\n",
    "            writer.write(img)\n",
    "            if quit_on_success and info['success']:\n",
    "                break\n",
    "\n",
    "    writer.release()"
   ],
   "metadata": {
    "collapsed": false,
    "pycharm": {
     "name": "#%%\n"
    }
   }
  }
 ],
 "metadata": {
  "kernelspec": {
   "display_name": "Python 3",
   "language": "python",
   "name": "python3"
  },
  "language_info": {
   "codemirror_mode": {
    "name": "ipython",
    "version": 2
   },
   "file_extension": ".py",
   "mimetype": "text/x-python",
   "name": "python",
   "nbconvert_exporter": "python",
   "pygments_lexer": "ipython2",
   "version": "2.7.6"
  }
 },
 "nbformat": 4,
 "nbformat_minor": 0
}